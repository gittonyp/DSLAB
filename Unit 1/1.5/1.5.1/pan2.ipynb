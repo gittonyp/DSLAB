{
 "cells": [
  {
   "cell_type": "code",
   "execution_count": 15,
   "metadata": {},
   "outputs": [
    {
     "name": "stdout",
     "output_type": "stream",
     "text": [
      "22     4.6\n",
      "13     4.3\n",
      "14     5.8\n",
      "35     5.0\n",
      "16     5.4\n",
      "      ... \n",
      "131    7.9\n",
      "105    7.6\n",
      "117    7.7\n",
      "122    7.7\n",
      "118    7.7\n",
      "Name: 0, Length: 150, dtype: float64\n",
      "      0    1    2    3\n",
      "22  4.6  3.6  1.0  0.2\n",
      "13  4.3  3.0  1.1  0.1\n",
      "14  5.8  4.0  1.2  0.2\n"
     ]
    }
   ],
   "source": [
    "import pandas as pd\n",
    "import numpy as np\n",
    "from sklearn import datasets\n",
    "iris = datasets.load_iris()\n",
    "pds=pd.DataFrame(iris.data)\n",
    "a=pds.sort_values(by=2)\n",
    "print(a[0])\n",
    "print(a.head(3))"
   ]
  },
  {
   "cell_type": "code",
   "execution_count": null,
   "metadata": {},
   "outputs": [],
   "source": []
  }
 ],
 "metadata": {
  "kernelspec": {
   "display_name": "Python 3",
   "language": "python",
   "name": "python3"
  },
  "language_info": {
   "codemirror_mode": {
    "name": "ipython",
    "version": 3
   },
   "file_extension": ".py",
   "mimetype": "text/x-python",
   "name": "python",
   "nbconvert_exporter": "python",
   "pygments_lexer": "ipython3",
   "version": "3.12.1"
  }
 },
 "nbformat": 4,
 "nbformat_minor": 2
}
