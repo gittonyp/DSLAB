{
 "cells": [
  {
   "cell_type": "code",
   "execution_count": 1,
   "metadata": {},
   "outputs": [
    {
     "name": "stdout",
     "output_type": "stream",
     "text": [
      "       0    1    2    3\n",
      "22   4.6  3.6  1.0  0.2\n",
      "13   4.3  3.0  1.1  0.1\n",
      "14   5.8  4.0  1.2  0.2\n",
      "35   5.0  3.2  1.2  0.2\n",
      "16   5.4  3.9  1.3  0.4\n",
      "..   ...  ...  ...  ...\n",
      "131  7.9  3.8  6.4  2.0\n",
      "105  7.6  3.0  6.6  2.1\n",
      "117  7.7  3.8  6.7  2.2\n",
      "122  7.7  2.8  6.7  2.0\n",
      "118  7.7  2.6  6.9  2.3\n",
      "\n",
      "[150 rows x 4 columns]\n",
      "22     4.6\n",
      "13     4.3\n",
      "14     5.8\n",
      "35     5.0\n",
      "16     5.4\n",
      "      ... \n",
      "131    7.9\n",
      "105    7.6\n",
      "117    7.7\n",
      "122    7.7\n",
      "118    7.7\n",
      "Name: 0, Length: 150, dtype: float64\n",
      "      0    1    2    3\n",
      "22  4.6  3.6  1.0  0.2\n",
      "13  4.3  3.0  1.1  0.1\n",
      "14  5.8  4.0  1.2  0.2\n"
     ]
    },
    {
     "name": "stderr",
     "output_type": "stream",
     "text": [
      "Bad pipe message: %s [b'0.9,image/avif,image/webp,image/apng,*/*;q=0.8,application/signed-exchange;v=b3;q=0.7\\r\\nHost: localhost:38529\\r\\nUs', b'-Agent: Mozilla/5.0 (Windows NT 10.0; Win64; x64) AppleWebKit/537.36 (KHTML, like Gecko) Chrome/128.']\n",
      "Bad pipe message: %s [b'0.0 Safari/537.36\\r\\nAccept-Encoding: gzip, defla']\n",
      "Bad pipe message: %s [b', br, zstd\\r\\nAccept-Language: en-US,en;q=0.9\\r\\nCache-Control: max-age=0\\r\\nReferer: https://github.com/\\r\\nX-Request-ID: ', b'f98501e51909d3e9e90d52e63c2577\\r\\nX-Real-IP: 10.240.0.10\\r\\nX-Forwarded-Port: 443\\r\\nX-Forwarded-Scheme: h']\n",
      "Bad pipe message: %s [b'ps\\r\\nX-Original-URI: /\\r\\nX-Scheme: https\\r\\nsec-fetch-site: cross-site\\r\\nsec-fetch-mode: navigate\\r\\nsec-fetch-dest: docum']\n",
      "Bad pipe message: %s [b't\\r\\nsec-ch-ua: \"Chromium\";v=\"128\", \"Not;A=Brand\";v=\"24\", \"Google Chrome\";v=\"128\"\\r\\nsec-ch-ua-mobile: ?']\n"
     ]
    }
   ],
   "source": [
    "import pandas as pd\n",
    "import numpy as np\n",
    "from sklearn import datasets\n",
    "iris = datasets.load_iris()\n",
    "pds=pd.DataFrame(iris.data)\n",
    "a=pds.sort_values(by=2)\n",
    "print(a)\n",
    "print(a[0])\n",
    "print(a.head(3))"
   ]
  },
  {
   "cell_type": "code",
   "execution_count": null,
   "metadata": {},
   "outputs": [],
   "source": []
  }
 ],
 "metadata": {
  "kernelspec": {
   "display_name": "Python 3",
   "language": "python",
   "name": "python3"
  },
  "language_info": {
   "codemirror_mode": {
    "name": "ipython",
    "version": 3
   },
   "file_extension": ".py",
   "mimetype": "text/x-python",
   "name": "python",
   "nbconvert_exporter": "python",
   "pygments_lexer": "ipython3",
   "version": "3.12.1"
  }
 },
 "nbformat": 4,
 "nbformat_minor": 2
}
