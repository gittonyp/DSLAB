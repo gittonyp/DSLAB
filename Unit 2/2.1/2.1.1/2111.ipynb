{
 "cells": [
  {
   "cell_type": "code",
   "execution_count": 1,
   "metadata": {},
   "outputs": [],
   "source": [
    "import pandas as pd\n",
    "import numpy as np\n"
   ]
  },
  {
   "cell_type": "code",
   "execution_count": 8,
   "metadata": {},
   "outputs": [],
   "source": [
    "df=pd.read_csv(\"dataset.csv\")"
   ]
  },
  {
   "cell_type": "code",
   "execution_count": 9,
   "metadata": {},
   "outputs": [
    {
     "name": "stdout",
     "output_type": "stream",
     "text": [
      "   Unnamed: 0   ID  AGE  PackHistory COPDSEVERITY   MWT1   MWT2  MWT1Best  \\\n",
      "0           1   58   77         60.0       SEVERE  120.0  120.0     120.0   \n",
      "1           2   57   79         50.0     MODERATE  165.0  176.0     176.0   \n",
      "2           3   62   80         11.0     MODERATE  201.0  180.0     201.0   \n",
      "3           4  145   56         60.0  VERY SEVERE  210.0  210.0     210.0   \n",
      "4           5  136   65         68.0       SEVERE  204.0  210.0     210.0   \n",
      "\n",
      "   FEV1  FEV1PRED  ...   SGRQ  AGEquartiles  copd  gender  smoking  Diabetes  \\\n",
      "0  1.21      36.0  ...  69.55             4     3       1        2         1   \n",
      "1  1.09      56.0  ...  44.24             4     2       0        2         1   \n",
      "2  1.52      68.0  ...  44.09             4     2       0        2         1   \n",
      "3  0.47      14.0  ...  62.04             1     4       1        2         0   \n",
      "4  1.07      42.0  ...  75.56             1     3       1        2         0   \n",
      "\n",
      "   muscular  hypertension  AtrialFib  IHD  \n",
      "0         0             0          1    0  \n",
      "1         0             0          1    1  \n",
      "2         0             0          1    0  \n",
      "3         0             1          1    0  \n",
      "4         1             1          0    0  \n",
      "\n",
      "[5 rows x 24 columns]\n"
     ]
    }
   ],
   "source": [
    "print(df.head())"
   ]
  },
  {
   "cell_type": "code",
   "execution_count": 10,
   "metadata": {},
   "outputs": [
    {
     "name": "stdout",
     "output_type": "stream",
     "text": [
      "Index(['Unnamed: 0', 'ID', 'AGE', 'PackHistory', 'COPDSEVERITY', 'MWT1',\n",
      "       'MWT2', 'MWT1Best', 'FEV1', 'FEV1PRED', 'FVC', 'FVCPRED', 'CAT', 'HAD',\n",
      "       'SGRQ', 'AGEquartiles', 'copd', 'gender', 'smoking', 'Diabetes',\n",
      "       'muscular', 'hypertension', 'AtrialFib', 'IHD'],\n",
      "      dtype='object')\n",
      "Unnamed: 0        int64\n",
      "ID                int64\n",
      "AGE               int64\n",
      "PackHistory     float64\n",
      "COPDSEVERITY     object\n",
      "MWT1            float64\n",
      "MWT2            float64\n",
      "MWT1Best        float64\n",
      "FEV1            float64\n",
      "FEV1PRED        float64\n",
      "FVC             float64\n",
      "FVCPRED           int64\n",
      "CAT               int64\n",
      "HAD             float64\n",
      "SGRQ            float64\n",
      "AGEquartiles      int64\n",
      "copd              int64\n",
      "gender            int64\n",
      "smoking           int64\n",
      "Diabetes          int64\n",
      "muscular          int64\n",
      "hypertension      int64\n",
      "AtrialFib         int64\n",
      "IHD               int64\n",
      "dtype: object\n"
     ]
    }
   ],
   "source": [
    "print(df.columns)\n",
    "print(df.dtypes)"
   ]
  },
  {
   "cell_type": "code",
   "execution_count": 12,
   "metadata": {},
   "outputs": [],
   "source": [
    "import json as jn\n",
    "data = [{\n",
    "    \"name\": \"ABC PQR\",\n",
    "    \"age\": 30,\n",
    "    \"isStudent\": False,\n",
    "    \"skills\": [\"Python\", \"JavaScript\", \"SQL\"],\n",
    "    \"address\": {\n",
    "        \"street\": \"123 Main Road\",\n",
    "        \"city\": \"Pune\",\n",
    "        \"state\": \"MH\"}\n",
    "    },\n",
    "    {\"name\": \"XYZ PQR\",\n",
    "    \"age\": 20,\n",
    "    \"isStudent\": True,\n",
    "    \"skills\": [ \"JavaScript\", \"SQL\",\"Python\"],\n",
    "    \"address\": {\n",
    "        \"street\": \"124 Main Road\",\n",
    "        \"city\": \"Pune\",\n",
    "        \"state\": \"MH\"}\n",
    "    }\n",
    "]\n",
    "\n",
    "with open(file=\"a.json\",mode=\"a\") as file1:\n",
    "    jn.dump(data,file1,indent=2)"
   ]
  },
  {
   "cell_type": "code",
   "execution_count": 13,
   "metadata": {},
   "outputs": [
    {
     "data": {
      "text/plain": [
       "<function TextIOWrapper.close()>"
      ]
     },
     "execution_count": 13,
     "metadata": {},
     "output_type": "execute_result"
    }
   ],
   "source": [
    "file1.close"
   ]
  },
  {
   "cell_type": "code",
   "execution_count": 14,
   "metadata": {},
   "outputs": [
    {
     "name": "stdout",
     "output_type": "stream",
     "text": [
      "      name  age  isStudent                     skills  \\\n",
      "0  ABC PQR   30      False  [Python, JavaScript, SQL]   \n",
      "1  XYZ PQR   20       True  [JavaScript, SQL, Python]   \n",
      "\n",
      "                                             address  \n",
      "0  {'street': '123 Main Road', 'city': 'Pune', 's...  \n",
      "1  {'street': '124 Main Road', 'city': 'Pune', 's...  \n"
     ]
    }
   ],
   "source": [
    "df=pd.read_json(\"a.json\")\n",
    "print(df.head())"
   ]
  },
  {
   "cell_type": "code",
   "execution_count": 25,
   "metadata": {},
   "outputs": [
    {
     "name": "stdout",
     "output_type": "stream",
     "text": [
      "      name  age  isStudent                     skills address.street  \\\n",
      "0  ABC PQR   30      False  [Python, JavaScript, SQL]  123 Main Road   \n",
      "1  XYZ PQR   20       True  [JavaScript, SQL, Python]  124 Main Road   \n",
      "\n",
      "  address.city address.state  \n",
      "0         Pune            MH  \n",
      "1         Pune            MH  \n"
     ]
    }
   ],
   "source": [
    "with open(file=\"a.json\",mode=\"r\") as fil11:\n",
    "    df1=jn.load(fil11)\n",
    "df1=pd.json_normalize(df1)\n",
    "print(df1)"
   ]
  },
  {
   "cell_type": "code",
   "execution_count": 20,
   "metadata": {},
   "outputs": [
    {
     "name": "stdout",
     "output_type": "stream",
     "text": [
      "      name  age  isStudent                     skills address.street  \\\n",
      "0  ABC PQR   30      False  [Python, JavaScript, SQL]  123 Main Road   \n",
      "1  XYZ PQR   20       True  [JavaScript, SQL, Python]  124 Main Road   \n",
      "\n",
      "  address.city address.state  \n",
      "0         Pune            MH  \n",
      "1         Pune            MH  \n"
     ]
    }
   ],
   "source": [
    "print(df1.head())"
   ]
  },
  {
   "cell_type": "code",
   "execution_count": null,
   "metadata": {},
   "outputs": [],
   "source": []
  }
 ],
 "metadata": {
  "kernelspec": {
   "display_name": "Python 3",
   "language": "python",
   "name": "python3"
  },
  "language_info": {
   "codemirror_mode": {
    "name": "ipython",
    "version": 3
   },
   "file_extension": ".py",
   "mimetype": "text/x-python",
   "name": "python",
   "nbconvert_exporter": "python",
   "pygments_lexer": "ipython3",
   "version": "3.12.1"
  }
 },
 "nbformat": 4,
 "nbformat_minor": 2
}
