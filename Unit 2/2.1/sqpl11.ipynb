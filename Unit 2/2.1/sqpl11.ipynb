{
 "cells": [
  {
   "cell_type": "code",
   "execution_count": 2,
   "metadata": {},
   "outputs": [],
   "source": [
    "import pandas as pd\n",
    "import sqlite3"
   ]
  },
  {
   "cell_type": "code",
   "execution_count": 3,
   "metadata": {},
   "outputs": [],
   "source": [
    "con=sqlite3.connect(\"abc.db\")\n",
    "conc=con.cursor()"
   ]
  },
  {
   "cell_type": "code",
   "execution_count": 4,
   "metadata": {},
   "outputs": [
    {
     "name": "stdout",
     "output_type": "stream",
     "text": [
      "[(1, 'Ram', 'A+'), (2, 'Shayam', 'A-'), (3, 'raju', 'A++'), (4, 'Ram', 'A+'), (5, 'Ram', 'A+'), (6, 'Shayam', 'A-'), (7, 'raju', 'A++'), (8, 'Ram', 'A+'), (9, 'Ram', 'A+'), (10, 'Shayam', 'A-'), (11, 'raju', 'A++'), (12, 'Ram', 'A+'), (13, 'Ram', 'A+'), (14, 'Shayam', 'A-'), (15, 'raju', 'A++'), (16, 'Ram', 'A+'), (17, 'Ram', 'A+'), (18, 'Shayam', 'A-'), (19, 'raju', 'A++'), (20, 'Ram', 'A+')]\n"
     ]
    }
   ],
   "source": [
    "conc.execute('''CREATE TABLE IF NOT EXISTS std(id INTEGER PRIMARY KEY AUTOINCREMENT,name TEXT NOT NULL,grade TEXT)''')\n",
    "conc.execute('''INSERT INTO std (name,grade) VALUES (\"Ram\",\"A+\")''')\n",
    "conc.execute('''INSERT INTO std (name,grade) VALUES  (\"Shayam\",\"A-\")''')\n",
    "conc.execute('''INSERT INTO std (name,grade) VALUES (\"raju\",\"A++\")''')\n",
    "conc.execute('''INSERT INTO std (name,grade) VALUES (\"Ram\",\"A+\")''')\n",
    "\n",
    "\n",
    "con.commit()\n",
    "\n",
    "conc.execute(\"SELECT * FROM std\")\n",
    "abc=conc.fetchall()\n",
    "print(abc)"
   ]
  },
  {
   "cell_type": "code",
   "execution_count": 7,
   "metadata": {},
   "outputs": [],
   "source": [
    "pds=pd.read_sql_query(\"SELECT * FROM std\",con)"
   ]
  },
  {
   "cell_type": "code",
   "execution_count": 24,
   "metadata": {},
   "outputs": [
    {
     "name": "stdout",
     "output_type": "stream",
     "text": [
      "    id    name grade\n",
      "0    1     Ram    A+\n",
      "1    2  Shayam    A-\n",
      "2    3    raju   A++\n",
      "3    4     Ram    A+\n",
      "4    5     Ram    A+\n",
      "5    6  Shayam    A-\n",
      "6    7    raju   A++\n",
      "7    8     Ram    A+\n",
      "8    9     Ram    A+\n",
      "9   10  Shayam    A-\n",
      "10  11    raju   A++\n",
      "11  12     Ram    A+\n",
      "12  13     Ram    A+\n",
      "13  14  Shayam    A-\n",
      "14  15    raju   A++\n",
      "15  16     Ram    A+\n"
     ]
    }
   ],
   "source": [
    "print(pds)"
   ]
  },
  {
   "cell_type": "code",
   "execution_count": 8,
   "metadata": {},
   "outputs": [
    {
     "name": "stdout",
     "output_type": "stream",
     "text": [
      "   id    name grade\n",
      "0   1     Ram    A+\n",
      "1   2  Shayam    A-\n",
      "2   3    raju   A++\n",
      "3   4     Ram    A+\n",
      "4   5     Ram    A+\n"
     ]
    }
   ],
   "source": [
    "print(pds.head())"
   ]
  },
  {
   "cell_type": "code",
   "execution_count": 11,
   "metadata": {},
   "outputs": [
    {
     "data": {
      "text/html": [
       "<div>\n",
       "<style scoped>\n",
       "    .dataframe tbody tr th:only-of-type {\n",
       "        vertical-align: middle;\n",
       "    }\n",
       "\n",
       "    .dataframe tbody tr th {\n",
       "        vertical-align: top;\n",
       "    }\n",
       "\n",
       "    .dataframe thead th {\n",
       "        text-align: right;\n",
       "    }\n",
       "</style>\n",
       "<table border=\"1\" class=\"dataframe\">\n",
       "  <thead>\n",
       "    <tr style=\"text-align: right;\">\n",
       "      <th></th>\n",
       "      <th>id</th>\n",
       "      <th>name</th>\n",
       "      <th>grade</th>\n",
       "    </tr>\n",
       "  </thead>\n",
       "  <tbody>\n",
       "    <tr>\n",
       "      <th>15</th>\n",
       "      <td>16</td>\n",
       "      <td>Ram</td>\n",
       "      <td>A+</td>\n",
       "    </tr>\n",
       "    <tr>\n",
       "      <th>16</th>\n",
       "      <td>17</td>\n",
       "      <td>Ram</td>\n",
       "      <td>A+</td>\n",
       "    </tr>\n",
       "    <tr>\n",
       "      <th>17</th>\n",
       "      <td>18</td>\n",
       "      <td>Shayam</td>\n",
       "      <td>A-</td>\n",
       "    </tr>\n",
       "    <tr>\n",
       "      <th>18</th>\n",
       "      <td>19</td>\n",
       "      <td>raju</td>\n",
       "      <td>A++</td>\n",
       "    </tr>\n",
       "    <tr>\n",
       "      <th>19</th>\n",
       "      <td>20</td>\n",
       "      <td>Ram</td>\n",
       "      <td>A+</td>\n",
       "    </tr>\n",
       "  </tbody>\n",
       "</table>\n",
       "</div>"
      ],
      "text/plain": [
       "    id    name grade\n",
       "15  16     Ram    A+\n",
       "16  17     Ram    A+\n",
       "17  18  Shayam    A-\n",
       "18  19    raju   A++\n",
       "19  20     Ram    A+"
      ]
     },
     "execution_count": 11,
     "metadata": {},
     "output_type": "execute_result"
    }
   ],
   "source": [
    "pds.tail()"
   ]
  },
  {
   "cell_type": "code",
   "execution_count": null,
   "metadata": {},
   "outputs": [],
   "source": []
  }
 ],
 "metadata": {
  "kernelspec": {
   "display_name": "Python 3",
   "language": "python",
   "name": "python3"
  },
  "language_info": {
   "codemirror_mode": {
    "name": "ipython",
    "version": 3
   },
   "file_extension": ".py",
   "mimetype": "text/x-python",
   "name": "python",
   "nbconvert_exporter": "python",
   "pygments_lexer": "ipython3",
   "version": "3.12.1"
  }
 },
 "nbformat": 4,
 "nbformat_minor": 2
}
