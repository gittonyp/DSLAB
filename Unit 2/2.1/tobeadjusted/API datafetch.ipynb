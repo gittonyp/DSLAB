{
 "cells": [
  {
   "cell_type": "code",
   "execution_count": 1,
   "id": "7035fd5b",
   "metadata": {},
   "outputs": [
    {
     "ename": "NameError",
     "evalue": "name 'parameters' is not defined",
     "output_type": "error",
     "traceback": [
      "\u001b[0;31m---------------------------------------------------------------------------\u001b[0m",
      "\u001b[0;31mNameError\u001b[0m                                 Traceback (most recent call last)",
      "Cell \u001b[0;32mIn[1], line 18\u001b[0m\n\u001b[1;32m      9\u001b[0m \u001b[38;5;124;03m'''parameters = {\u001b[39;00m\n\u001b[1;32m     10\u001b[0m \u001b[38;5;124;03m    'vs_currency': 'usd',   # Convert data to USD\u001b[39;00m\n\u001b[1;32m     11\u001b[0m \u001b[38;5;124;03m    'order': 'market_cap_desc',  # Order by market cap\u001b[39;00m\n\u001b[0;32m   (...)\u001b[0m\n\u001b[1;32m     14\u001b[0m \u001b[38;5;124;03m    'sparkline': False  # Do not include sparkline data\u001b[39;00m\n\u001b[1;32m     15\u001b[0m \u001b[38;5;124;03m}'''\u001b[39;00m\n\u001b[1;32m     17\u001b[0m \u001b[38;5;66;03m# Step 2: Fetch data from the CoinGecko API\u001b[39;00m\n\u001b[0;32m---> 18\u001b[0m response \u001b[38;5;241m=\u001b[39m requests\u001b[38;5;241m.\u001b[39mget(api_url, params\u001b[38;5;241m=\u001b[39m\u001b[43mparameters\u001b[49m)\n\u001b[1;32m     20\u001b[0m \u001b[38;5;66;03m# Step 3: Check if the request was successful\u001b[39;00m\n\u001b[1;32m     21\u001b[0m \u001b[38;5;28;01mif\u001b[39;00m response\u001b[38;5;241m.\u001b[39mstatus_code \u001b[38;5;241m==\u001b[39m \u001b[38;5;241m200\u001b[39m:\n",
      "\u001b[0;31mNameError\u001b[0m: name 'parameters' is not defined"
     ]
    }
   ],
   "source": [
    "import requests\n",
    "import pandas as pd\n",
    "\n",
    "# Step 1: Identify the API and endpoint\n",
    "api_url = 'https://api.coingecko.com/api/v3/coins/markets'\n",
    "\n",
    "#api_url = 'https://api.openweathermap.org/data/3.0/onecall/timemachine?lat=39.099724&lon=-94.578331&dt=1643803200&appid={3ee92f6cff135cc54976b8136a19cf18}'\n",
    "#api_url = 'https://rapidapi.com/blaazetech/api/indian-stock-exchange'\n",
    "'''parameters = {\n",
    "    'vs_currency': 'usd',   # Convert data to USD\n",
    "    'order': 'market_cap_desc',  # Order by market cap\n",
    "    'per_page': 10,  # Limit the results to 10 cryptocurrencies\n",
    "    'page': 1,  # Get data from the first page\n",
    "    'sparkline': False  # Do not include sparkline data\n",
    "}'''\n",
    "\n",
    "# Step 2: Fetch data from the CoinGecko API\n",
    "response = requests.get(api_url, params=parameters)\n",
    "\n",
    "# Step 3: Check if the request was successful\n",
    "if response.status_code == 200:\n",
    "    data = response.json()  # Get the data in JSON format\n",
    "\n",
    "    # Step 4: Convert JSON data to a DataFrame\n",
    "    df = pd.DataFrame(data)\n",
    "\n",
    "    # Step 5: Display the first few rows of the DataFrame\n",
    "    print(df.head())\n",
    "else:\n",
    "    print(f\"Error: Unable to fetch data (Status code: {response.status_code})\")"
   ]
  },
  {
   "cell_type": "code",
   "execution_count": 2,
   "id": "5300fca6",
   "metadata": {},
   "outputs": [
    {
     "name": "stdout",
     "output_type": "stream",
     "text": [
      "{'request': {'type': 'City', 'query': 'Delhi, Canada', 'language': 'en', 'unit': 'm'}, 'location': {'name': 'Delhi', 'country': 'Canada', 'region': 'Ontario', 'lat': '42.850', 'lon': '-80.500', 'timezone_id': 'America/Toronto', 'localtime': '2024-09-23 23:56', 'localtime_epoch': 1727135760, 'utc_offset': '-4.0'}, 'current': {'observation_time': '03:56 AM', 'temperature': 18, 'weather_code': 113, 'weather_icons': ['https://cdn.worldweatheronline.com/images/wsymbols01_png_64/wsymbol_0008_clear_sky_night.png'], 'weather_descriptions': ['Clear'], 'wind_speed': 16, 'wind_degree': 55, 'wind_dir': 'NE', 'pressure': 1013, 'precip': 0, 'humidity': 86, 'cloudcover': 0, 'feelslike': 18, 'uv_index': 1, 'visibility': 10, 'is_day': 'no'}}\n",
      "  observation_time  temperature  weather_code  \\\n",
      "0         03:56 AM           18           113   \n",
      "\n",
      "                                       weather_icons weather_descriptions  \\\n",
      "0  [https://cdn.worldweatheronline.com/images/wsy...              [Clear]   \n",
      "\n",
      "   wind_speed  wind_degree wind_dir  pressure  precip  humidity  cloudcover  \\\n",
      "0          16           55       NE      1013       0        86           0   \n",
      "\n",
      "   feelslike  uv_index  visibility is_day  \n",
      "0         18         1          10     no  \n"
     ]
    }
   ],
   "source": [
    "import requests\n",
    "import pandas as pd\n",
    "\n",
    "# Step 1: Define the API endpoint and parameters\n",
    "api_url = 'https://api.weatherstack.com/current'\n",
    "\n",
    "params = {\n",
    "    'access_key': 'c85e487e0e9f0d5b29c61e55979e753d',  # Replace with your actual API key\n",
    "    'query': 'Delhi'\n",
    "}\n",
    "\n",
    "# Step 2: Fetch data from the Weatherstack API\n",
    "response = requests.get(api_url, params=params)\n",
    "\n",
    "\n",
    "# Step 3: Check if the request was successful\n",
    "if response.status_code == 200:\n",
    "    data = response.json()  # Get the data in JSON format\n",
    "\n",
    "    # Step 4: Convert JSON data to a DataFrame\n",
    "    # Print the raw data to understand its structure\n",
    "    print(data)  # Helps to understand how to construct DataFrame\n",
    "\n",
    "    # Example of converting to DataFrame (adjust as necessary)\n",
    "    # Extracting relevant data from 'current'\n",
    "    current_weather = data.get('current', {})\n",
    "    df = pd.DataFrame([current_weather])\n",
    "    \n",
    "    # Step 5: Display the first few rows of the DataFrame\n",
    "    print(df.head())\n",
    "else:\n",
    "    print(f\"Error: Unable to fetch data (Status code: {response.status_code})\")\n",
    "    print(response.text)  # Print the error message if available\n"
   ]
  },
  {
   "cell_type": "code",
   "execution_count": null,
   "id": "90dd061e",
   "metadata": {},
   "outputs": [],
   "source": []
  }
 ],
 "metadata": {
  "kernelspec": {
   "display_name": "Python 3 (ipykernel)",
   "language": "python",
   "name": "python3"
  },
  "language_info": {
   "codemirror_mode": {
    "name": "ipython",
    "version": 3
   },
   "file_extension": ".py",
   "mimetype": "text/x-python",
   "name": "python",
   "nbconvert_exporter": "python",
   "pygments_lexer": "ipython3",
   "version": "3.12.1"
  }
 },
 "nbformat": 4,
 "nbformat_minor": 5
}
