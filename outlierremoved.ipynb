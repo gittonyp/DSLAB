{
 "cells": [
  {
   "cell_type": "code",
   "execution_count": 2,
   "metadata": {},
   "outputs": [],
   "source": [
    "import pandas as pd"
   ]
  },
  {
   "cell_type": "code",
   "execution_count": 3,
   "metadata": {},
   "outputs": [],
   "source": [
    "import numpy as np\n",
    "import seaborn as sns"
   ]
  },
  {
   "cell_type": "code",
   "execution_count": 4,
   "metadata": {},
   "outputs": [],
   "source": [
    "df=pd.read_csv('loans.csv')"
   ]
  },
  {
   "cell_type": "code",
   "execution_count": 5,
   "metadata": {},
   "outputs": [
    {
     "data": {
      "text/plain": [
       "<bound method NDFrame.describe of      client_id loan_type  loan_amount  repaid  loan_id  loan_start  \\\n",
       "0        46109      home        13672       0    10243  2002-04-16   \n",
       "1        46109    credit         9794       0    10984  2003-10-21   \n",
       "2        46109      home        12734       1    10990  2006-02-01   \n",
       "3        46109      cash        12518       1    10596  2010-12-08   \n",
       "4        46109    credit        14049       1    11415  2010-07-07   \n",
       "..         ...       ...          ...     ...      ...         ...   \n",
       "438      26945     other        12963       0    10330  2001-11-26   \n",
       "439      26945    credit         1728       1    10248  2004-01-27   \n",
       "440      26945     other         9329       0    10154  2001-12-17   \n",
       "441      26945      home         4197       0    10333  2003-10-16   \n",
       "442      26945      home         3643       0    11434  2010-03-24   \n",
       "\n",
       "       loan_end  rate  \n",
       "0    2003-12-20  2.15  \n",
       "1    2005-07-17  1.25  \n",
       "2    2007-07-05  0.68  \n",
       "3    2013-05-05  1.24  \n",
       "4    2012-05-21  3.13  \n",
       "..          ...   ...  \n",
       "438  2004-06-11  2.46  \n",
       "439  2005-06-21  5.27  \n",
       "440  2004-07-22  5.65  \n",
       "441  2005-07-10  4.50  \n",
       "442  2011-12-22  0.13  \n",
       "\n",
       "[443 rows x 8 columns]>"
      ]
     },
     "execution_count": 5,
     "metadata": {},
     "output_type": "execute_result"
    }
   ],
   "source": [
    "df.describe"
   ]
  },
  {
   "cell_type": "code",
   "execution_count": 6,
   "metadata": {},
   "outputs": [
    {
     "data": {
      "text/plain": [
       "client_id      0\n",
       "loan_type      0\n",
       "loan_amount    0\n",
       "repaid         0\n",
       "loan_id        0\n",
       "loan_start     0\n",
       "loan_end       0\n",
       "rate           0\n",
       "dtype: int64"
      ]
     },
     "execution_count": 6,
     "metadata": {},
     "output_type": "execute_result"
    }
   ],
   "source": [
    "df.isnull().sum()"
   ]
  },
  {
   "cell_type": "code",
   "execution_count": 7,
   "metadata": {},
   "outputs": [
    {
     "data": {
      "text/plain": [
       "client_id       25\n",
       "loan_type        4\n",
       "loan_amount    438\n",
       "repaid           2\n",
       "loan_id        443\n",
       "loan_start     430\n",
       "loan_end       428\n",
       "rate           336\n",
       "dtype: int64"
      ]
     },
     "execution_count": 7,
     "metadata": {},
     "output_type": "execute_result"
    }
   ],
   "source": [
    "df.nunique()"
   ]
  },
  {
   "cell_type": "code",
   "execution_count": 8,
   "metadata": {},
   "outputs": [
    {
     "data": {
      "text/plain": [
       "client_id        int64\n",
       "loan_type       object\n",
       "loan_amount      int64\n",
       "repaid           int64\n",
       "loan_id          int64\n",
       "loan_start      object\n",
       "loan_end        object\n",
       "rate           float64\n",
       "dtype: object"
      ]
     },
     "execution_count": 8,
     "metadata": {},
     "output_type": "execute_result"
    }
   ],
   "source": [
    "df.dtypes"
   ]
  },
  {
   "cell_type": "code",
   "execution_count": 35,
   "metadata": {},
   "outputs": [],
   "source": [
    "df['repaid']=df['repaid'].astype('object')\n",
    "df['loan_start']=df['loan_start'].astype('datetime64[ns]')\n",
    "df['loan_end']=df['loan_end'].astype('datetime64[ns]')\n",
    "df['client_id']=df['client_id'].astype('object')\n",
    "df['loan_id']=df['loan_id'].astype('object')"
   ]
  },
  {
   "cell_type": "code",
   "execution_count": 36,
   "metadata": {},
   "outputs": [
    {
     "data": {
      "text/plain": [
       "client_id              object\n",
       "loan_type              object\n",
       "loan_amount             int64\n",
       "repaid                 object\n",
       "loan_id                object\n",
       "loan_start     datetime64[ns]\n",
       "loan_end       datetime64[ns]\n",
       "rate                  float64\n",
       "dtype: object"
      ]
     },
     "execution_count": 36,
     "metadata": {},
     "output_type": "execute_result"
    }
   ],
   "source": [
    "df.dtypes"
   ]
  },
  {
   "cell_type": "code",
   "execution_count": 37,
   "metadata": {},
   "outputs": [
    {
     "data": {
      "text/plain": [
       "client_id       25\n",
       "loan_type        4\n",
       "loan_amount    438\n",
       "repaid           2\n",
       "loan_id        443\n",
       "loan_start     430\n",
       "loan_end       428\n",
       "rate           336\n",
       "dtype: int64"
      ]
     },
     "execution_count": 37,
     "metadata": {},
     "output_type": "execute_result"
    }
   ],
   "source": [
    "df.nunique()"
   ]
  },
  {
   "cell_type": "code",
   "execution_count": 38,
   "metadata": {},
   "outputs": [
    {
     "name": "stdout",
     "output_type": "stream",
     "text": [
      "    client_id loan_type  loan_amount repaid loan_id loan_start   loan_end  \\\n",
      "0       46109      home        13672      0   10243 2002-04-16 2003-12-20   \n",
      "1       46109    credit         9794      0   10984 2003-10-21 2005-07-17   \n",
      "2       46109      home        12734      1   10990 2006-02-01 2007-07-05   \n",
      "3       46109      cash        12518      1   10596 2010-12-08 2013-05-05   \n",
      "4       46109    credit        14049      1   11415 2010-07-07 2012-05-21   \n",
      "..        ...       ...          ...    ...     ...        ...        ...   \n",
      "438     26945     other        12963      0   10330 2001-11-26 2004-06-11   \n",
      "439     26945    credit         1728      1   10248 2004-01-27 2005-06-21   \n",
      "440     26945     other         9329      0   10154 2001-12-17 2004-07-22   \n",
      "441     26945      home         4197      0   10333 2003-10-16 2005-07-10   \n",
      "442     26945      home         3643      0   11434 2010-03-24 2011-12-22   \n",
      "\n",
      "     rate  \n",
      "0    2.15  \n",
      "1    1.25  \n",
      "2    0.68  \n",
      "3    1.24  \n",
      "4    3.13  \n",
      "..    ...  \n",
      "438  2.46  \n",
      "439  5.27  \n",
      "440  5.65  \n",
      "441  4.50  \n",
      "442  0.13  \n",
      "\n",
      "[443 rows x 8 columns]\n"
     ]
    }
   ],
   "source": [
    "print(df)"
   ]
  },
  {
   "cell_type": "code",
   "execution_count": 39,
   "metadata": {},
   "outputs": [],
   "source": [
    "numer = df.select_dtypes(include=[np.number])"
   ]
  },
  {
   "cell_type": "code",
   "execution_count": 40,
   "metadata": {},
   "outputs": [],
   "source": [
    "tr=1\n",
    "z=abs((numer-numer.mean())/numer.std())"
   ]
  },
  {
   "cell_type": "code",
   "execution_count": 41,
   "metadata": {},
   "outputs": [
    {
     "data": {
      "text/html": [
       "<div>\n",
       "<style scoped>\n",
       "    .dataframe tbody tr th:only-of-type {\n",
       "        vertical-align: middle;\n",
       "    }\n",
       "\n",
       "    .dataframe tbody tr th {\n",
       "        vertical-align: top;\n",
       "    }\n",
       "\n",
       "    .dataframe thead th {\n",
       "        text-align: right;\n",
       "    }\n",
       "</style>\n",
       "<table border=\"1\" class=\"dataframe\">\n",
       "  <thead>\n",
       "    <tr style=\"text-align: right;\">\n",
       "      <th></th>\n",
       "      <th>loan_amount</th>\n",
       "      <th>rate</th>\n",
       "    </tr>\n",
       "  </thead>\n",
       "  <tbody>\n",
       "    <tr>\n",
       "      <th>0</th>\n",
       "      <td>1.363488</td>\n",
       "      <td>0.445174</td>\n",
       "    </tr>\n",
       "    <tr>\n",
       "      <th>1</th>\n",
       "      <td>0.434157</td>\n",
       "      <td>0.820617</td>\n",
       "    </tr>\n",
       "    <tr>\n",
       "      <th>2</th>\n",
       "      <td>1.138704</td>\n",
       "      <td>1.058397</td>\n",
       "    </tr>\n",
       "    <tr>\n",
       "      <th>3</th>\n",
       "      <td>1.086941</td>\n",
       "      <td>0.824788</td>\n",
       "    </tr>\n",
       "    <tr>\n",
       "      <th>4</th>\n",
       "      <td>1.453833</td>\n",
       "      <td>0.036358</td>\n",
       "    </tr>\n",
       "    <tr>\n",
       "      <th>...</th>\n",
       "      <td>...</td>\n",
       "      <td>...</td>\n",
       "    </tr>\n",
       "    <tr>\n",
       "      <th>438</th>\n",
       "      <td>1.193582</td>\n",
       "      <td>0.315854</td>\n",
       "    </tr>\n",
       "    <tr>\n",
       "      <th>439</th>\n",
       "      <td>1.498795</td>\n",
       "      <td>0.856362</td>\n",
       "    </tr>\n",
       "    <tr>\n",
       "      <th>440</th>\n",
       "      <td>0.322723</td>\n",
       "      <td>1.014883</td>\n",
       "    </tr>\n",
       "    <tr>\n",
       "      <th>441</th>\n",
       "      <td>0.907119</td>\n",
       "      <td>0.535150</td>\n",
       "    </tr>\n",
       "    <tr>\n",
       "      <th>442</th>\n",
       "      <td>1.039881</td>\n",
       "      <td>1.287835</td>\n",
       "    </tr>\n",
       "  </tbody>\n",
       "</table>\n",
       "<p>443 rows × 2 columns</p>\n",
       "</div>"
      ],
      "text/plain": [
       "     loan_amount      rate\n",
       "0       1.363488  0.445174\n",
       "1       0.434157  0.820617\n",
       "2       1.138704  1.058397\n",
       "3       1.086941  0.824788\n",
       "4       1.453833  0.036358\n",
       "..           ...       ...\n",
       "438     1.193582  0.315854\n",
       "439     1.498795  0.856362\n",
       "440     0.322723  1.014883\n",
       "441     0.907119  0.535150\n",
       "442     1.039881  1.287835\n",
       "\n",
       "[443 rows x 2 columns]"
      ]
     },
     "execution_count": 41,
     "metadata": {},
     "output_type": "execute_result"
    }
   ],
   "source": [
    "z"
   ]
  },
  {
   "cell_type": "code",
   "execution_count": 42,
   "metadata": {},
   "outputs": [],
   "source": [
    "rownum=(tr > z).all(axis=1)"
   ]
  },
  {
   "cell_type": "code",
   "execution_count": null,
   "metadata": {},
   "outputs": [],
   "source": []
  },
  {
   "cell_type": "code",
   "execution_count": 44,
   "metadata": {},
   "outputs": [
    {
     "name": "stdout",
     "output_type": "stream",
     "text": [
      "0      False\n",
      "1       True\n",
      "2      False\n",
      "3      False\n",
      "4      False\n",
      "       ...  \n",
      "438    False\n",
      "439    False\n",
      "440    False\n",
      "441     True\n",
      "442    False\n",
      "Length: 443, dtype: bool\n"
     ]
    }
   ],
   "source": [
    "print(rownum)"
   ]
  },
  {
   "cell_type": "code",
   "execution_count": 45,
   "metadata": {},
   "outputs": [],
   "source": [
    "cleaned=df[rownum]"
   ]
  },
  {
   "cell_type": "code",
   "execution_count": 51,
   "metadata": {},
   "outputs": [
    {
     "data": {
      "text/plain": [
       "np.float64(5.61)"
      ]
     },
     "execution_count": 51,
     "metadata": {},
     "output_type": "execute_result"
    }
   ],
   "source": [
    "cleaned['rate'].max()"
   ]
  },
  {
   "cell_type": "code",
   "execution_count": 48,
   "metadata": {},
   "outputs": [
    {
     "data": {
      "text/plain": [
       "array([2.150e+00, 1.250e+00, 6.800e-01, 1.240e+00, 3.130e+00, 1.940e+00,\n",
       "       9.480e+00, 4.140e+00, 5.480e+00, 4.260e+00, 6.490e+00, 5.000e-01,\n",
       "       8.600e-01, 5.980e+00, 2.820e+00, 1.290e+00, 3.300e+00, 3.120e+00,\n",
       "       7.900e-01, 4.150e+00, 8.100e-01, 8.300e-01, 6.520e+00, 5.000e-02,\n",
       "       1.500e-01, 4.070e+00, 3.600e+00, 1.410e+00, 5.970e+00, 2.630e+00,\n",
       "       4.230e+00, 1.640e+00, 3.280e+00, 5.440e+00, 4.380e+00, 1.220e+00,\n",
       "       1.140e+00, 3.920e+00, 4.500e-01, 1.010e+00, 1.049e+01, 8.800e-01,\n",
       "       3.600e-01, 3.760e+00, 2.520e+00, 1.180e+00, 1.210e+00, 5.790e+00,\n",
       "       9.000e-01, 9.080e+00, 1.700e+00, 2.580e+00, 6.480e+00, 1.500e+00,\n",
       "       1.070e+00, 6.510e+00, 4.300e-01, 8.390e+00, 3.160e+00, 3.950e+00,\n",
       "       6.860e+00, 1.380e+00, 4.470e+00, 3.200e+00, 5.700e-01, 3.050e+00,\n",
       "       6.130e+00, 2.340e+00, 3.140e+00, 8.900e-01, 9.260e+00, 5.510e+00,\n",
       "       2.230e+00, 2.480e+00, 8.700e-01, 3.300e-01, 5.470e+00, 1.820e+00,\n",
       "       7.400e+00, 9.440e+00, 5.720e+00, 2.390e+00, 3.180e+00, 1.680e+00,\n",
       "       8.500e-01, 1.370e+00, 4.090e+00, 4.370e+00, 4.590e+00, 4.560e+00,\n",
       "       1.580e+00, 3.210e+00, 6.020e+00, 5.000e+00, 2.500e-01, 8.340e+00,\n",
       "       9.910e+00, 7.000e-01, 6.000e-01, 1.000e+00, 3.570e+00, 2.440e+00,\n",
       "       6.500e-01, 1.340e+00, 4.250e+00, 4.950e+00, 1.900e-01, 1.620e+00,\n",
       "       3.980e+00, 8.600e+00, 4.450e+00, 2.870e+00, 2.780e+00, 9.100e+00,\n",
       "       2.060e+00, 3.200e-01, 4.200e+00, 2.830e+00, 2.700e+00, 3.740e+00,\n",
       "       9.700e-01, 6.600e-01, 3.100e-01, 3.310e+00, 4.580e+00, 2.720e+00,\n",
       "       2.640e+00, 7.630e+00, 5.360e+00, 4.300e+00, 2.990e+00, 1.890e+00,\n",
       "       5.960e+00, 2.660e+00, 7.130e+00, 2.840e+00, 6.700e-01, 2.270e+00,\n",
       "       5.760e+00, 1.160e+00, 1.760e+00, 4.990e+00, 5.890e+00, 1.750e+00,\n",
       "       7.500e+00, 1.930e+00, 1.400e+00, 5.110e+00, 2.100e+00, 2.760e+00,\n",
       "       4.290e+00, 4.660e+00, 8.440e+00, 2.210e+00, 1.600e-01, 7.110e+00,\n",
       "       5.850e+00, 6.000e+00, 6.170e+00, 1.230e+00, 5.690e+00, 1.520e+00,\n",
       "       2.140e+00, 4.870e+00, 5.130e+00, 6.100e-01, 4.980e+00, 2.810e+00,\n",
       "       5.200e-01, 1.089e+01, 6.730e+00, 7.800e-01, 1.630e+00, 1.450e+00,\n",
       "       5.100e-01, 7.400e-01, 2.130e+00, 5.430e+00, 6.610e+00, 3.240e+00,\n",
       "       1.320e+00, 2.980e+00, 2.740e+00, 2.350e+00, 1.300e+00, 1.970e+00,\n",
       "       2.510e+00, 6.400e-01, 6.900e-01, 6.740e+00, 3.680e+00, 1.280e+00,\n",
       "       2.260e+00, 7.600e-01, 5.570e+00, 3.800e-01, 9.500e-01, 9.140e+00,\n",
       "       3.400e-01, 1.000e-02, 4.170e+00, 1.840e+00, 5.900e-01, 6.380e+00,\n",
       "       6.920e+00, 5.010e+00, 8.740e+00, 3.930e+00, 1.460e+00, 4.740e+00,\n",
       "       4.440e+00, 2.600e-01, 2.190e+00, 6.110e+00, 2.600e+00, 6.420e+00,\n",
       "       4.630e+00, 1.190e+00, 3.960e+00, 5.090e+00, 6.760e+00, 3.430e+00,\n",
       "       6.120e+00, 6.580e+00, 9.220e+00, 4.970e+00, 3.610e+00, 3.790e+00,\n",
       "       2.420e+00, 7.000e-02, 2.970e+00, 3.590e+00, 4.050e+00, 5.520e+00,\n",
       "       6.570e+00, 2.900e-01, 7.140e+00, 5.280e+00, 6.830e+00, 3.080e+00,\n",
       "       3.490e+00, 4.700e-01, 1.480e+00, 1.000e-01, 9.110e+00, 1.700e-01,\n",
       "       7.210e+00, 5.250e+00, 2.770e+00, 2.910e+00, 6.300e-01, 5.780e+00,\n",
       "       6.670e+00, 1.990e+00, 5.180e+00, 5.650e+00, 3.170e+00, 3.900e-01,\n",
       "       2.530e+00, 2.030e+00, 6.780e+00, 2.570e+00, 2.000e-02, 4.080e+00,\n",
       "       4.750e+00, 8.000e-01, 3.620e+00, 4.190e+00, 2.960e+00, 3.270e+00,\n",
       "       3.000e-02, 1.170e+00, 4.100e+00, 9.400e-01, 1.910e+00, 5.740e+00,\n",
       "       9.230e+00, 2.170e+00, 1.560e+00, 4.160e+00, 5.540e+00, 5.830e+00,\n",
       "       1.740e+00, 2.950e+00, 1.530e+00, 9.010e+00, 3.810e+00, 2.200e-01,\n",
       "       1.860e+00, 2.890e+00, 3.450e+00, 2.850e+00, 2.380e+00, 4.790e+00,\n",
       "       2.550e+00, 2.540e+00, 2.790e+00, 3.330e+00, 8.010e+00, 5.320e+00,\n",
       "       3.500e-01, 3.700e-01, 2.370e+00, 4.600e-01, 7.500e-01, 5.800e+00,\n",
       "       1.880e+00, 3.030e+00, 1.960e+00, 4.880e+00, 2.250e+00, 7.360e+00,\n",
       "       9.820e+00, 9.200e-01, 5.680e+00, 5.610e+00, 1.030e+00, 1.120e+00,\n",
       "       6.190e+00, 4.600e+00, 2.280e+00, 3.940e+00, 3.770e+00, 6.240e+00,\n",
       "       4.240e+00, 3.440e+00, 1.262e+01, 4.120e+00, 2.860e+00, 3.510e+00,\n",
       "       3.190e+00, 1.200e+00, 2.460e+00, 5.270e+00, 4.500e+00, 1.300e-01])"
      ]
     },
     "execution_count": 48,
     "metadata": {},
     "output_type": "execute_result"
    }
   ],
   "source": [
    "df['rate'].unique()"
   ]
  },
  {
   "cell_type": "code",
   "execution_count": null,
   "metadata": {},
   "outputs": [],
   "source": []
  }
 ],
 "metadata": {
  "kernelspec": {
   "display_name": "Python 3",
   "language": "python",
   "name": "python3"
  },
  "language_info": {
   "codemirror_mode": {
    "name": "ipython",
    "version": 3
   },
   "file_extension": ".py",
   "mimetype": "text/x-python",
   "name": "python",
   "nbconvert_exporter": "python",
   "pygments_lexer": "ipython3",
   "version": "3.12.1"
  }
 },
 "nbformat": 4,
 "nbformat_minor": 2
}
