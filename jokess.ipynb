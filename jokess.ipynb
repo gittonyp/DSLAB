{
 "cells": [
  {
   "cell_type": "code",
   "execution_count": 1,
   "metadata": {},
   "outputs": [],
   "source": [
    "import requests\n",
    "import pandas as pd"
   ]
  },
  {
   "cell_type": "code",
   "execution_count": 18,
   "metadata": {},
   "outputs": [],
   "source": [
    "url='https://api.weatherstack.com/current'\n",
    "parameters={'access_key': 'c85e487e0e9f0d5b29c61e55979e753d',  # Replace with your actual API key\n",
    "    'query': 'Jalgaon'}\n",
    "res=requests.get(url,params=parameters)\n"
   ]
  },
  {
   "cell_type": "code",
   "execution_count": 19,
   "metadata": {},
   "outputs": [
    {
     "name": "stdout",
     "output_type": "stream",
     "text": [
      "b'{\"request\":{\"type\":\"City\",\"query\":\"Jalgaon, India\",\"language\":\"en\",\"unit\":\"m\"},\"location\":{\"name\":\"Jalgaon\",\"country\":\"India\",\"region\":\"Maharashtra\",\"lat\":\"21.049\",\"lon\":\"76.534\",\"timezone_id\":\"Asia\\\\/Kolkata\",\"localtime\":\"2024-09-24 09:35\",\"localtime_epoch\":1727170500,\"utc_offset\":\"5.50\"},\"current\":{\"observation_time\":\"04:05 AM\",\"temperature\":29,\"weather_code\":116,\"weather_icons\":[\"https:\\\\/\\\\/cdn.worldweatheronline.com\\\\/images\\\\/wsymbols01_png_64\\\\/wsymbol_0002_sunny_intervals.png\"],\"weather_descriptions\":[\"Partly Cloudy \"],\"wind_speed\":6,\"wind_degree\":43,\"wind_dir\":\"NE\",\"pressure\":1006,\"precip\":0,\"humidity\":75,\"cloudcover\":28,\"feelslike\":34,\"uv_index\":7,\"visibility\":10,\"is_day\":\"yes\"}}'\n"
     ]
    }
   ],
   "source": [
    "print(res.content)\n"
   ]
  },
  {
   "cell_type": "code",
   "execution_count": 20,
   "metadata": {},
   "outputs": [],
   "source": [
    "data=res.json()"
   ]
  },
  {
   "cell_type": "code",
   "execution_count": 23,
   "metadata": {},
   "outputs": [
    {
     "name": "stdout",
     "output_type": "stream",
     "text": [
      "{'observation_time': '04:05 AM', 'temperature': 29, 'weather_code': 116, 'weather_icons': ['https://cdn.worldweatheronline.com/images/wsymbols01_png_64/wsymbol_0002_sunny_intervals.png'], 'weather_descriptions': ['Partly Cloudy '], 'wind_speed': 6, 'wind_degree': 43, 'wind_dir': 'NE', 'pressure': 1006, 'precip': 0, 'humidity': 75, 'cloudcover': 28, 'feelslike': 34, 'uv_index': 7, 'visibility': 10, 'is_day': 'yes'}\n"
     ]
    }
   ],
   "source": [
    "a=data.get(\"current\",{})\n",
    "print(a)"
   ]
  },
  {
   "cell_type": "code",
   "execution_count": null,
   "metadata": {},
   "outputs": [],
   "source": []
  }
 ],
 "metadata": {
  "kernelspec": {
   "display_name": "Python 3",
   "language": "python",
   "name": "python3"
  },
  "language_info": {
   "codemirror_mode": {
    "name": "ipython",
    "version": 3
   },
   "file_extension": ".py",
   "mimetype": "text/x-python",
   "name": "python",
   "nbconvert_exporter": "python",
   "pygments_lexer": "ipython3",
   "version": "3.12.1"
  }
 },
 "nbformat": 4,
 "nbformat_minor": 2
}
