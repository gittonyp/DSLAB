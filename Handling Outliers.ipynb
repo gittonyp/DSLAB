{
 "cells": [
  {
   "cell_type": "code",
   "execution_count": 1,
   "id": "a5ef6e07",
   "metadata": {},
   "outputs": [],
   "source": [
    "import pandas as pd\n",
    "import numpy as np\n",
    "import matplotlib.pyplot as plt\n",
    "import seaborn as sns\n",
    "%matplotlib inline"
   ]
  },
  {
   "cell_type": "code",
   "execution_count": 2,
   "id": "f9b9b5e7",
   "metadata": {},
   "outputs": [
    {
     "name": "stdout",
     "output_type": "stream",
     "text": [
      "  state  account_length  area_code phone_number intl_plan voice_mail_plan  \\\n",
      "0    KS             128        415     382-4657        no             yes   \n",
      "1    OH             107        415     371-7191        no             yes   \n",
      "2    NJ             137        415     358-1921        no              no   \n",
      "3    OH              84        408     375-9999       yes              no   \n",
      "4    OK              75        415     330-6626       yes              no   \n",
      "\n",
      "   number_vmail_messages  total_day_minutes  total_day_calls  \\\n",
      "0                     25              265.1              110   \n",
      "1                     26              161.6              123   \n",
      "2                      0              243.4              114   \n",
      "3                      0              299.4               71   \n",
      "4                      0              166.7              113   \n",
      "\n",
      "   total_day_charge  ...  total_eve_calls  total_eve_charge  \\\n",
      "0             45.07  ...               99             16.78   \n",
      "1             27.47  ...              103             16.62   \n",
      "2             41.38  ...              110             10.30   \n",
      "3             50.90  ...               88              5.26   \n",
      "4             28.34  ...              122             12.61   \n",
      "\n",
      "   total_night_minutes  total_night_calls  total_night_charge  \\\n",
      "0                244.7                 91               11.01   \n",
      "1                254.4                103               11.45   \n",
      "2                162.6                104                7.32   \n",
      "3                196.9                 89                8.86   \n",
      "4                186.9                121                8.41   \n",
      "\n",
      "   total_intl_minutes  total_intl_calls  total_intl_charge  \\\n",
      "0                10.0                 3               2.70   \n",
      "1                13.7                 3               3.70   \n",
      "2                12.2                 5               3.29   \n",
      "3                 6.6                 7               1.78   \n",
      "4                10.1                 3               2.73   \n",
      "\n",
      "   number_customer_service_calls  churned  \n",
      "0                              1    False  \n",
      "1                              1    False  \n",
      "2                              0    False  \n",
      "3                              2    False  \n",
      "4                              3    False  \n",
      "\n",
      "[5 rows x 21 columns]\n"
     ]
    }
   ],
   "source": [
    "df = pd.read_csv(\"E:/ML_FDP_Program/ML Lab/K-Neighbor/Orange_Telecom_Churn_Data.csv\")\n",
    "print(df.head())"
   ]
  },
  {
   "cell_type": "code",
   "execution_count": 3,
   "id": "3ddef5c8",
   "metadata": {},
   "outputs": [],
   "source": [
    "numeric_df = df.select_dtypes(include=[np.number])"
   ]
  },
  {
   "cell_type": "code",
   "execution_count": 4,
   "id": "7706be64",
   "metadata": {},
   "outputs": [],
   "source": [
    "threshold = 3"
   ]
  },
  {
   "cell_type": "code",
   "execution_count": 5,
   "id": "f99411f5",
   "metadata": {},
   "outputs": [
    {
     "name": "stdout",
     "output_type": "stream",
     "text": [
      "      account_length  area_code  number_vmail_messages  total_day_minutes  \\\n",
      "0           0.698872   0.519115               1.273018           1.573645   \n",
      "1           0.169832   0.519115               1.346838           0.346767   \n",
      "2           0.925603   0.519115               0.572492           1.171008   \n",
      "3           0.409593   0.684955               0.572492           2.210071   \n",
      "4           0.636324   0.519115               0.572492           0.252138   \n",
      "...              ...        ...                    ...                ...   \n",
      "4995        1.266133   0.684955               2.380324           1.028136   \n",
      "4996        1.303488   0.519115               0.572492           0.072569   \n",
      "4997        0.989017   0.519115               0.572492           0.736416   \n",
      "4998        0.220217   1.731581               0.572492           0.157921   \n",
      "4999        0.359208   0.519115               1.937401           0.944228   \n",
      "\n",
      "      total_day_calls  total_day_charge  total_eve_minutes  total_eve_calls  \\\n",
      "0            0.502773          1.573917           0.064025         0.060071   \n",
      "1            1.158306          0.347047           0.101611         0.141679   \n",
      "2            0.704476          1.171169           1.571405         0.494742   \n",
      "3            1.463825          2.210236           2.744470         0.614884   \n",
      "4            0.654050          0.252090           1.035316         1.099993   \n",
      "...               ...               ...                ...              ...   \n",
      "4995         1.360009          1.028188           0.442391         1.301743   \n",
      "4996         0.505738          0.072072           1.111019         1.371448   \n",
      "4997         0.556164          0.736697           0.550660         1.402618   \n",
      "4998         1.665527          0.158297           0.572420         0.413134   \n",
      "4999         0.099369          0.944074           1.314772         0.192117   \n",
      "\n",
      "      total_eve_charge  total_night_minutes  total_night_calls  \\\n",
      "0             0.063843             0.876911           0.446883   \n",
      "1             0.101079             1.068885           0.154359   \n",
      "2             1.571927             0.747937           0.204462   \n",
      "3             2.744881             0.069103           0.547090   \n",
      "4             1.034323             0.267014           1.056222   \n",
      "...                ...                  ...                ...   \n",
      "4995          0.443507             1.921881           0.805704   \n",
      "4996          1.111439             0.261408           0.655394   \n",
      "4997          0.550246             0.237659           0.146262   \n",
      "4998          0.573519             0.475152           0.547090   \n",
      "4999          1.313913             0.902308           0.004048   \n",
      "\n",
      "      total_night_charge  total_intl_minutes  total_intl_calls  \\\n",
      "0               0.876199            0.094800          0.584177   \n",
      "1               1.069711            1.245102          0.584177   \n",
      "2               0.746662            0.701899          0.229894   \n",
      "3               0.069370            1.326061          1.043965   \n",
      "4               0.267280            0.058586          0.584177   \n",
      "...                  ...                 ...               ...   \n",
      "4995            1.922922            0.131013          0.229894   \n",
      "4996            0.260479            1.607238          0.991213   \n",
      "4997            0.238489            1.208889          0.177142   \n",
      "4998            0.475981            0.638003          0.636929   \n",
      "4999            0.900592            0.348295          4.707284   \n",
      "\n",
      "      total_intl_charge  number_customer_service_calls  \n",
      "0              0.095499                       0.436632  \n",
      "1              1.245858                       0.436632  \n",
      "2              0.695901                       1.202116  \n",
      "3              1.329548                       0.328852  \n",
      "4              0.055259                       1.094336  \n",
      "...                 ...                            ...  \n",
      "4995           0.135740                       0.328852  \n",
      "4996           1.608024                       1.094336  \n",
      "4997           1.205617                       0.436632  \n",
      "4998           0.632042                       1.202116  \n",
      "4999           0.350357                       1.202116  \n",
      "\n",
      "[5000 rows x 16 columns]\n"
     ]
    }
   ],
   "source": [
    "z_scores = np.abs((numeric_df - numeric_df.mean()) / numeric_df.std())\n",
    "print(z_scores)"
   ]
  },
  {
   "cell_type": "code",
   "execution_count": 6,
   "id": "055e89ed",
   "metadata": {},
   "outputs": [
    {
     "name": "stdout",
     "output_type": "stream",
     "text": [
      "0        True\n",
      "1        True\n",
      "2        True\n",
      "3        True\n",
      "4        True\n",
      "        ...  \n",
      "4995     True\n",
      "4996     True\n",
      "4997     True\n",
      "4998     True\n",
      "4999    False\n",
      "Length: 5000, dtype: bool\n"
     ]
    }
   ],
   "source": [
    "outliers_removed = (z_scores < threshold).all(axis=1)\n",
    "print(outliers_removed)"
   ]
  },
  {
   "cell_type": "code",
   "execution_count": 7,
   "id": "ba20314f",
   "metadata": {},
   "outputs": [
    {
     "name": "stdout",
     "output_type": "stream",
     "text": [
      "     state  account_length  area_code phone_number intl_plan voice_mail_plan  \\\n",
      "0       KS             128        415     382-4657        no             yes   \n",
      "1       OH             107        415     371-7191        no             yes   \n",
      "2       NJ             137        415     358-1921        no              no   \n",
      "3       OH              84        408     375-9999       yes              no   \n",
      "4       OK              75        415     330-6626       yes              no   \n",
      "...    ...             ...        ...          ...       ...             ...   \n",
      "4994    NC              75        408     417-1886        no              no   \n",
      "4995    HI              50        408     365-8751        no             yes   \n",
      "4996    WV             152        415     334-9736        no              no   \n",
      "4997    DC              61        415     333-6861        no              no   \n",
      "4998    DC             109        510     394-2206        no              no   \n",
      "\n",
      "      number_vmail_messages  total_day_minutes  total_day_calls  \\\n",
      "0                        25              265.1              110   \n",
      "1                        26              161.6              123   \n",
      "2                         0              243.4              114   \n",
      "3                         0              299.4               71   \n",
      "4                         0              166.7              113   \n",
      "...                     ...                ...              ...   \n",
      "4994                      0              170.7              101   \n",
      "4995                     40              235.7              127   \n",
      "4996                      0              184.2               90   \n",
      "4997                      0              140.6               89   \n",
      "4998                      0              188.8               67   \n",
      "\n",
      "      total_day_charge  ...  total_eve_calls  total_eve_charge  \\\n",
      "0                45.07  ...               99             16.78   \n",
      "1                27.47  ...              103             16.62   \n",
      "2                41.38  ...              110             10.30   \n",
      "3                50.90  ...               88              5.26   \n",
      "4                28.34  ...              122             12.61   \n",
      "...                ...  ...              ...               ...   \n",
      "4994             29.02  ...              126             16.41   \n",
      "4995             40.07  ...              126             18.96   \n",
      "4996             31.31  ...               73             21.83   \n",
      "4997             23.90  ...              128             14.69   \n",
      "4998             32.10  ...               92             14.59   \n",
      "\n",
      "      total_night_minutes  total_night_calls  total_night_charge  \\\n",
      "0                   244.7                 91               11.01   \n",
      "1                   254.4                103               11.45   \n",
      "2                   162.6                104                7.32   \n",
      "3                   196.9                 89                8.86   \n",
      "4                   186.9                121                8.41   \n",
      "...                   ...                ...                 ...   \n",
      "4994                129.1                104                5.81   \n",
      "4995                297.5                116               13.39   \n",
      "4996                213.6                113                9.61   \n",
      "4997                212.4                 97                9.56   \n",
      "4998                224.4                 89               10.10   \n",
      "\n",
      "      total_intl_minutes  total_intl_calls  total_intl_charge  \\\n",
      "0                   10.0                 3               2.70   \n",
      "1                   13.7                 3               3.70   \n",
      "2                   12.2                 5               3.29   \n",
      "3                    6.6                 7               1.78   \n",
      "4                   10.1                 3               2.73   \n",
      "...                  ...               ...                ...   \n",
      "4994                 6.9                 7               1.86   \n",
      "4995                 9.9                 5               2.67   \n",
      "4996                14.7                 2               3.97   \n",
      "4997                13.6                 4               3.67   \n",
      "4998                 8.5                 6               2.30   \n",
      "\n",
      "      number_customer_service_calls  churned  \n",
      "0                                 1    False  \n",
      "1                                 1    False  \n",
      "2                                 0    False  \n",
      "3                                 2    False  \n",
      "4                                 3    False  \n",
      "...                             ...      ...  \n",
      "4994                              1    False  \n",
      "4995                              2    False  \n",
      "4996                              3     True  \n",
      "4997                              1    False  \n",
      "4998                              0    False  \n",
      "\n",
      "[4743 rows x 21 columns]\n"
     ]
    }
   ],
   "source": [
    "df_cleaned = df[outliers_removed]\n",
    "print(df_cleaned)"
   ]
  },
  {
   "cell_type": "code",
   "execution_count": null,
   "id": "6ef5b523",
   "metadata": {},
   "outputs": [],
   "source": []
  }
 ],
 "metadata": {
  "kernelspec": {
   "display_name": "Python 3 (ipykernel)",
   "language": "python",
   "name": "python3"
  },
  "language_info": {
   "codemirror_mode": {
    "name": "ipython",
    "version": 3
   },
   "file_extension": ".py",
   "mimetype": "text/x-python",
   "name": "python",
   "nbconvert_exporter": "python",
   "pygments_lexer": "ipython3",
   "version": "3.11.5"
  }
 },
 "nbformat": 4,
 "nbformat_minor": 5
}
