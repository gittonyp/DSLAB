{
 "cells": [
  {
   "cell_type": "code",
   "execution_count": 4,
   "id": "04a388e4",
   "metadata": {},
   "outputs": [],
   "source": [
    "import pandas as pd\n",
    "import numpy as np"
   ]
  },
  {
   "cell_type": "code",
   "execution_count": 7,
   "id": "88c87925",
   "metadata": {},
   "outputs": [
    {
     "name": "stdout",
     "output_type": "stream",
     "text": [
      "0    1.0\n",
      "1    3.0\n",
      "2    5.0\n",
      "3    NaN\n",
      "4    6.0\n",
      "5    8.0\n",
      "dtype: float64\n"
     ]
    }
   ],
   "source": [
    "s = pd.Series([1, 3, 5, np.nan, 6, 8])\n",
    "print(s)"
   ]
  },
  {
   "cell_type": "code",
   "execution_count": 9,
   "id": "b0e1255b",
   "metadata": {},
   "outputs": [
    {
     "name": "stdout",
     "output_type": "stream",
     "text": [
      "DatetimeIndex(['2013-01-01', '2013-01-02', '2013-01-03', '2013-01-04',\n",
      "               '2013-01-05', '2013-01-06'],\n",
      "              dtype='datetime64[ns]', freq='D')\n"
     ]
    }
   ],
   "source": [
    "dates = pd.date_range(\"20130101\", periods=6)\n",
    "print(dates)"
   ]
  },
  {
   "cell_type": "code",
   "execution_count": 62,
   "id": "0b311bce",
   "metadata": {},
   "outputs": [
    {
     "name": "stdout",
     "output_type": "stream",
     "text": [
      "     A          B    C  D      E    F\n",
      "0  1.0 2013-01-01  1.0  3   test  foo\n",
      "1  2.0 2013-01-02  1.0  3  train  foo\n",
      "2  3.0 2013-01-03  1.0  3   test  foo\n",
      "3  4.0 2013-01-04  1.0  3  train  foo\n",
      "4  5.0 2013-01-05  1.0  3   test  foo\n",
      "5  5.5 2013-01-06  1.0  3  train  foo\n"
     ]
    }
   ],
   "source": [
    "#Creating a DataFrame by passing a dictionary of objects where the keys are the column labels and the values are the column values.\n",
    "df = pd.DataFrame(\n",
    "    {\n",
    "        \"A\": np.array([1.0,2.0,3.0,4.0,5.0,5.5]),\n",
    "        \"B\": pd.date_range(\"20130101\", periods=6),\n",
    "        \"C\": pd.Series(1, index=list(range(6)), dtype=\"float32\"),\n",
    "        \"D\": np.array([3] * 6, dtype=\"int32\"),\n",
    "        \"E\": pd.Categorical([\"test\", \"train\", \"test\", \"train\", \"test\", \"train\"]),\n",
    "        \"F\": \"foo\",\n",
    "    }\n",
    ")\n",
    "print(df)"
   ]
  },
  {
   "cell_type": "code",
   "execution_count": 45,
   "id": "cd6430cb",
   "metadata": {},
   "outputs": [
    {
     "name": "stdout",
     "output_type": "stream",
     "text": [
      "    cars  passings\n",
      "0    BMW         3\n",
      "1  Volvo         7\n",
      "2   Ford         2\n"
     ]
    }
   ],
   "source": [
    "import pandas\n",
    "\n",
    "mydataset = {\n",
    "  'cars': [\"BMW\", \"Volvo\", \"Ford\"],\n",
    "  'passings': [3, 7, 2]\n",
    "}\n",
    "\n",
    "myvar = pandas.DataFrame(mydataset)\n",
    "\n",
    "print(myvar)"
   ]
  },
  {
   "cell_type": "code",
   "execution_count": 63,
   "id": "79202fd1",
   "metadata": {},
   "outputs": [
    {
     "data": {
      "text/plain": [
       "A           float64\n",
       "B    datetime64[ns]\n",
       "C           float32\n",
       "D             int32\n",
       "E          category\n",
       "F            object\n",
       "dtype: object"
      ]
     },
     "execution_count": 63,
     "metadata": {},
     "output_type": "execute_result"
    }
   ],
   "source": [
    "df.dtypes"
   ]
  },
  {
   "cell_type": "code",
   "execution_count": 64,
   "id": "0586fe1d",
   "metadata": {},
   "outputs": [
    {
     "name": "stdout",
     "output_type": "stream",
     "text": [
      "     A          B    C  D      E    F\n",
      "0  1.0 2013-01-01  1.0  3   test  foo\n",
      "1  2.0 2013-01-02  1.0  3  train  foo\n",
      "2  3.0 2013-01-03  1.0  3   test  foo\n",
      "3  4.0 2013-01-04  1.0  3  train  foo\n",
      "4  5.0 2013-01-05  1.0  3   test  foo\n",
      "     A          B    C  D      E    F\n",
      "1  2.0 2013-01-02  1.0  3  train  foo\n",
      "2  3.0 2013-01-03  1.0  3   test  foo\n",
      "3  4.0 2013-01-04  1.0  3  train  foo\n",
      "4  5.0 2013-01-05  1.0  3   test  foo\n",
      "5  5.5 2013-01-06  1.0  3  train  foo\n"
     ]
    }
   ],
   "source": [
    "#Viewing data\n",
    "print(df.head())\n",
    "print(df.tail())"
   ]
  },
  {
   "cell_type": "code",
   "execution_count": 65,
   "id": "5ff0540f",
   "metadata": {},
   "outputs": [
    {
     "data": {
      "text/plain": [
       "Index([0, 1, 2, 3, 4, 5], dtype='int64')"
      ]
     },
     "execution_count": 65,
     "metadata": {},
     "output_type": "execute_result"
    }
   ],
   "source": [
    "df.index"
   ]
  },
  {
   "cell_type": "code",
   "execution_count": 66,
   "id": "3d32b3ef",
   "metadata": {},
   "outputs": [
    {
     "data": {
      "text/plain": [
       "Index(['A', 'B', 'C', 'D', 'E', 'F'], dtype='object')"
      ]
     },
     "execution_count": 66,
     "metadata": {},
     "output_type": "execute_result"
    }
   ],
   "source": [
    "df.columns"
   ]
  },
  {
   "cell_type": "code",
   "execution_count": 67,
   "id": "f50ebea7",
   "metadata": {},
   "outputs": [
    {
     "data": {
      "text/html": [
       "<div>\n",
       "<style scoped>\n",
       "    .dataframe tbody tr th:only-of-type {\n",
       "        vertical-align: middle;\n",
       "    }\n",
       "\n",
       "    .dataframe tbody tr th {\n",
       "        vertical-align: top;\n",
       "    }\n",
       "\n",
       "    .dataframe thead th {\n",
       "        text-align: right;\n",
       "    }\n",
       "</style>\n",
       "<table border=\"1\" class=\"dataframe\">\n",
       "  <thead>\n",
       "    <tr style=\"text-align: right;\">\n",
       "      <th></th>\n",
       "      <th>A</th>\n",
       "      <th>B</th>\n",
       "      <th>C</th>\n",
       "      <th>D</th>\n",
       "    </tr>\n",
       "  </thead>\n",
       "  <tbody>\n",
       "    <tr>\n",
       "      <th>count</th>\n",
       "      <td>6.000000</td>\n",
       "      <td>6</td>\n",
       "      <td>6.0</td>\n",
       "      <td>6.0</td>\n",
       "    </tr>\n",
       "    <tr>\n",
       "      <th>mean</th>\n",
       "      <td>3.416667</td>\n",
       "      <td>2013-01-03 12:00:00</td>\n",
       "      <td>1.0</td>\n",
       "      <td>3.0</td>\n",
       "    </tr>\n",
       "    <tr>\n",
       "      <th>min</th>\n",
       "      <td>1.000000</td>\n",
       "      <td>2013-01-01 00:00:00</td>\n",
       "      <td>1.0</td>\n",
       "      <td>3.0</td>\n",
       "    </tr>\n",
       "    <tr>\n",
       "      <th>25%</th>\n",
       "      <td>2.250000</td>\n",
       "      <td>2013-01-02 06:00:00</td>\n",
       "      <td>1.0</td>\n",
       "      <td>3.0</td>\n",
       "    </tr>\n",
       "    <tr>\n",
       "      <th>50%</th>\n",
       "      <td>3.500000</td>\n",
       "      <td>2013-01-03 12:00:00</td>\n",
       "      <td>1.0</td>\n",
       "      <td>3.0</td>\n",
       "    </tr>\n",
       "    <tr>\n",
       "      <th>75%</th>\n",
       "      <td>4.750000</td>\n",
       "      <td>2013-01-04 18:00:00</td>\n",
       "      <td>1.0</td>\n",
       "      <td>3.0</td>\n",
       "    </tr>\n",
       "    <tr>\n",
       "      <th>max</th>\n",
       "      <td>5.500000</td>\n",
       "      <td>2013-01-06 00:00:00</td>\n",
       "      <td>1.0</td>\n",
       "      <td>3.0</td>\n",
       "    </tr>\n",
       "    <tr>\n",
       "      <th>std</th>\n",
       "      <td>1.744037</td>\n",
       "      <td>NaN</td>\n",
       "      <td>0.0</td>\n",
       "      <td>0.0</td>\n",
       "    </tr>\n",
       "  </tbody>\n",
       "</table>\n",
       "</div>"
      ],
      "text/plain": [
       "              A                    B    C    D\n",
       "count  6.000000                    6  6.0  6.0\n",
       "mean   3.416667  2013-01-03 12:00:00  1.0  3.0\n",
       "min    1.000000  2013-01-01 00:00:00  1.0  3.0\n",
       "25%    2.250000  2013-01-02 06:00:00  1.0  3.0\n",
       "50%    3.500000  2013-01-03 12:00:00  1.0  3.0\n",
       "75%    4.750000  2013-01-04 18:00:00  1.0  3.0\n",
       "max    5.500000  2013-01-06 00:00:00  1.0  3.0\n",
       "std    1.744037                  NaN  0.0  0.0"
      ]
     },
     "execution_count": 67,
     "metadata": {},
     "output_type": "execute_result"
    }
   ],
   "source": [
    "df.describe()"
   ]
  },
  {
   "cell_type": "markdown",
   "id": "53212624",
   "metadata": {},
   "source": [
    "df.T                     # Transpose\n",
    "DataFrame.sort_index()   #sorts by an axis:\n",
    "DataFrame.sort_values()  #sorts by values:"
   ]
  },
  {
   "cell_type": "code",
   "execution_count": 68,
   "id": "d7b07fce",
   "metadata": {},
   "outputs": [
    {
     "name": "stdout",
     "output_type": "stream",
     "text": [
      "0    1.0\n",
      "1    2.0\n",
      "2    3.0\n",
      "3    4.0\n",
      "4    5.0\n",
      "5    5.5\n",
      "Name: A, dtype: float64\n",
      "     A          B    C  D      E    F\n",
      "0  1.0 2013-01-01  1.0  3   test  foo\n",
      "1  2.0 2013-01-02  1.0  3  train  foo\n",
      "2  3.0 2013-01-03  1.0  3   test  foo\n"
     ]
    }
   ],
   "source": [
    "print(df[\"A\"])\n",
    "print(df[0:3])"
   ]
  },
  {
   "cell_type": "code",
   "execution_count": 69,
   "id": "df0477b4",
   "metadata": {},
   "outputs": [
    {
     "data": {
      "text/html": [
       "<div>\n",
       "<style scoped>\n",
       "    .dataframe tbody tr th:only-of-type {\n",
       "        vertical-align: middle;\n",
       "    }\n",
       "\n",
       "    .dataframe tbody tr th {\n",
       "        vertical-align: top;\n",
       "    }\n",
       "\n",
       "    .dataframe thead th {\n",
       "        text-align: right;\n",
       "    }\n",
       "</style>\n",
       "<table border=\"1\" class=\"dataframe\">\n",
       "  <thead>\n",
       "    <tr style=\"text-align: right;\">\n",
       "      <th></th>\n",
       "      <th>A</th>\n",
       "      <th>B</th>\n",
       "    </tr>\n",
       "  </thead>\n",
       "  <tbody>\n",
       "    <tr>\n",
       "      <th>0</th>\n",
       "      <td>1.0</td>\n",
       "      <td>2013-01-01</td>\n",
       "    </tr>\n",
       "    <tr>\n",
       "      <th>1</th>\n",
       "      <td>2.0</td>\n",
       "      <td>2013-01-02</td>\n",
       "    </tr>\n",
       "    <tr>\n",
       "      <th>2</th>\n",
       "      <td>3.0</td>\n",
       "      <td>2013-01-03</td>\n",
       "    </tr>\n",
       "    <tr>\n",
       "      <th>3</th>\n",
       "      <td>4.0</td>\n",
       "      <td>2013-01-04</td>\n",
       "    </tr>\n",
       "    <tr>\n",
       "      <th>4</th>\n",
       "      <td>5.0</td>\n",
       "      <td>2013-01-05</td>\n",
       "    </tr>\n",
       "    <tr>\n",
       "      <th>5</th>\n",
       "      <td>5.5</td>\n",
       "      <td>2013-01-06</td>\n",
       "    </tr>\n",
       "  </tbody>\n",
       "</table>\n",
       "</div>"
      ],
      "text/plain": [
       "     A          B\n",
       "0  1.0 2013-01-01\n",
       "1  2.0 2013-01-02\n",
       "2  3.0 2013-01-03\n",
       "3  4.0 2013-01-04\n",
       "4  5.0 2013-01-05\n",
       "5  5.5 2013-01-06"
      ]
     },
     "execution_count": 69,
     "metadata": {},
     "output_type": "execute_result"
    }
   ],
   "source": [
    "df.loc[:, [\"A\", \"B\"]]   #Selecting a row matching a label"
   ]
  },
  {
   "cell_type": "code",
   "execution_count": 70,
   "id": "2ab658c5",
   "metadata": {},
   "outputs": [
    {
     "data": {
      "text/plain": [
       "A                    4.0\n",
       "B    2013-01-04 00:00:00\n",
       "C                    1.0\n",
       "D                      3\n",
       "E                  train\n",
       "F                    foo\n",
       "Name: 3, dtype: object"
      ]
     },
     "execution_count": 70,
     "metadata": {},
     "output_type": "execute_result"
    }
   ],
   "source": [
    "df.iloc[3]   #Selection by position"
   ]
  },
  {
   "cell_type": "code",
   "execution_count": 71,
   "id": "c074e759",
   "metadata": {},
   "outputs": [
    {
     "name": "stdout",
     "output_type": "stream",
     "text": [
      "     A          B\n",
      "0  1.0 2013-01-01\n",
      "1  2.0 2013-01-02\n",
      "2  3.0 2013-01-03\n",
      "3  4.0 2013-01-04\n",
      "4  5.0 2013-01-05\n",
      "5  5.5 2013-01-06\n"
     ]
    }
   ],
   "source": [
    "#select coloumns\n",
    "df_selected_columns = df[['A', 'B']]\n",
    "print(df_selected_columns)"
   ]
  },
  {
   "cell_type": "code",
   "execution_count": 72,
   "id": "bdd6a6dc",
   "metadata": {},
   "outputs": [
    {
     "name": "stdout",
     "output_type": "stream",
     "text": [
      "     A          B    C  D      E    F\n",
      "0  1.0 2013-01-01  1.0  3   test  foo\n",
      "1  2.0 2013-01-02  1.0  3  train  foo\n",
      "2  3.0 2013-01-03  1.0  3   test  foo\n"
     ]
    }
   ],
   "source": [
    "df_selected_rows = df.head(3)  # Alternatively, use df.iloc[0:3] \n",
    "print(df_selected_rows)"
   ]
  },
  {
   "cell_type": "code",
   "execution_count": 76,
   "id": "5d94a036",
   "metadata": {},
   "outputs": [
    {
     "data": {
      "text/html": [
       "<div>\n",
       "<style scoped>\n",
       "    .dataframe tbody tr th:only-of-type {\n",
       "        vertical-align: middle;\n",
       "    }\n",
       "\n",
       "    .dataframe tbody tr th {\n",
       "        vertical-align: top;\n",
       "    }\n",
       "\n",
       "    .dataframe thead th {\n",
       "        text-align: right;\n",
       "    }\n",
       "</style>\n",
       "<table border=\"1\" class=\"dataframe\">\n",
       "  <thead>\n",
       "    <tr style=\"text-align: right;\">\n",
       "      <th></th>\n",
       "      <th>A</th>\n",
       "      <th>B</th>\n",
       "      <th>C</th>\n",
       "      <th>D</th>\n",
       "      <th>E</th>\n",
       "      <th>F</th>\n",
       "    </tr>\n",
       "  </thead>\n",
       "  <tbody>\n",
       "    <tr>\n",
       "      <th>2</th>\n",
       "      <td>3.0</td>\n",
       "      <td>2013-01-03</td>\n",
       "      <td>1.0</td>\n",
       "      <td>3</td>\n",
       "      <td>test</td>\n",
       "      <td>foo</td>\n",
       "    </tr>\n",
       "    <tr>\n",
       "      <th>3</th>\n",
       "      <td>4.0</td>\n",
       "      <td>2013-01-04</td>\n",
       "      <td>1.0</td>\n",
       "      <td>3</td>\n",
       "      <td>train</td>\n",
       "      <td>foo</td>\n",
       "    </tr>\n",
       "    <tr>\n",
       "      <th>4</th>\n",
       "      <td>5.0</td>\n",
       "      <td>2013-01-05</td>\n",
       "      <td>1.0</td>\n",
       "      <td>3</td>\n",
       "      <td>test</td>\n",
       "      <td>foo</td>\n",
       "    </tr>\n",
       "    <tr>\n",
       "      <th>5</th>\n",
       "      <td>5.5</td>\n",
       "      <td>2013-01-06</td>\n",
       "      <td>1.0</td>\n",
       "      <td>3</td>\n",
       "      <td>train</td>\n",
       "      <td>foo</td>\n",
       "    </tr>\n",
       "  </tbody>\n",
       "</table>\n",
       "</div>"
      ],
      "text/plain": [
       "     A          B    C  D      E    F\n",
       "2  3.0 2013-01-03  1.0  3   test  foo\n",
       "3  4.0 2013-01-04  1.0  3  train  foo\n",
       "4  5.0 2013-01-05  1.0  3   test  foo\n",
       "5  5.5 2013-01-06  1.0  3  train  foo"
      ]
     },
     "execution_count": 76,
     "metadata": {},
     "output_type": "execute_result"
    }
   ],
   "source": [
    "#filtering\n",
    "df[df[\"A\"] > 2.0]"
   ]
  },
  {
   "cell_type": "code",
   "execution_count": 80,
   "id": "d877b292",
   "metadata": {},
   "outputs": [
    {
     "name": "stdout",
     "output_type": "stream",
     "text": [
      "     A          B    C  D     E    F\n",
      "2  3.0 2013-01-03  1.0  3  test  foo\n",
      "4  5.0 2013-01-05  1.0  3  test  foo\n"
     ]
    }
   ],
   "source": [
    "df_filtered_multiple = df[(df[\"A\"] > 2.0) & (df[\"E\"] == 'test')]\n",
    "print(df_filtered_multiple)"
   ]
  },
  {
   "cell_type": "code",
   "execution_count": 81,
   "id": "8ee23a73",
   "metadata": {},
   "outputs": [
    {
     "name": "stdout",
     "output_type": "stream",
     "text": [
      "     A          B    C  D      E    F\n",
      "0  1.0 2013-01-01  1.0  3   test  foo\n",
      "2  3.0 2013-01-03  1.0  3   test  foo\n",
      "4  5.0 2013-01-05  1.0  3   test  foo\n",
      "1  2.0 2013-01-02  1.0  3  train  foo\n",
      "3  4.0 2013-01-04  1.0  3  train  foo\n",
      "5  5.5 2013-01-06  1.0  3  train  foo\n"
     ]
    }
   ],
   "source": [
    "# Sort by coloumn'E' in ascending order\n",
    "df_sorted = df.sort_values(by='E')\n",
    "print(df_sorted)"
   ]
  },
  {
   "cell_type": "code",
   "execution_count": null,
   "id": "60768c49",
   "metadata": {},
   "outputs": [],
   "source": []
  }
 ],
 "metadata": {
  "kernelspec": {
   "display_name": "Python 3 (ipykernel)",
   "language": "python",
   "name": "python3"
  },
  "language_info": {
   "codemirror_mode": {
    "name": "ipython",
    "version": 3
   },
   "file_extension": ".py",
   "mimetype": "text/x-python",
   "name": "python",
   "nbconvert_exporter": "python",
   "pygments_lexer": "ipython3",
   "version": "3.11.5"
  }
 },
 "nbformat": 4,
 "nbformat_minor": 5
}
