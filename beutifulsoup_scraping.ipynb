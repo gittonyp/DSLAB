{
 "cells": [
  {
   "cell_type": "code",
   "execution_count": 1,
   "id": "8dd8c67e",
   "metadata": {},
   "outputs": [],
   "source": [
    "#pip install requests beautifulsoup4 pandas\n",
    "import requests\n",
    "from bs4 import BeautifulSoup\n",
    "import pandas as pd"
   ]
  },
  {
   "cell_type": "code",
   "execution_count": 2,
   "id": "101592ae",
   "metadata": {},
   "outputs": [],
   "source": [
    "url = 'https://en.wikipedia.org/wiki/Agriculture_in_India'\n",
    "#url = 'https://en.wikipedia.org/wiki/List_of_best-selling_automobiles'\n",
    "response = requests.get(url)"
   ]
  },
  {
   "cell_type": "code",
   "execution_count": 3,
   "id": "312b825e",
   "metadata": {},
   "outputs": [],
   "source": [
    "#Parse the content using BeautifulSoup\n",
    "soup = BeautifulSoup(response.content, 'html.parser')"
   ]
  },
  {
   "cell_type": "code",
   "execution_count": 4,
   "id": "6840d3d6",
   "metadata": {},
   "outputs": [],
   "source": [
    "#Find the table (Wikipedia tables usually have class \"wikitable\")\n",
    "table = soup.find('table', {'class': 'wikitable'})"
   ]
  },
  {
   "cell_type": "code",
   "execution_count": 5,
   "id": "a896c96f",
   "metadata": {},
   "outputs": [
    {
     "name": "stdout",
     "output_type": "stream",
     "text": [
      "<th>Rank\n",
      "</th>\n",
      "<th>Commodity\n",
      "</th>\n",
      "<th>Value (US$, 2016)\n",
      "</th>\n",
      "<th>Unit price<br/>(US$ / kilogram, 2009)\n",
      "</th>\n",
      "<th>Average yield<br/>(tonnes per hectare, 2017)\n",
      "</th>\n",
      "<th colspan=\"2\">Most productive country<br/>(tonnes per hectare, 2017)\n",
      "</th>\n"
     ]
    }
   ],
   "source": [
    "#Extract table headers\n",
    "headers = []\n",
    "for th in table.find_all('th'):\n",
    "    print(th)\n",
    "    header_text = th.text.strip()\n",
    "    headers.append(header_text)"
   ]
  },
  {
   "cell_type": "code",
   "execution_count": 6,
   "id": "5b04eebf",
   "metadata": {},
   "outputs": [
    {
     "name": "stdout",
     "output_type": "stream",
     "text": [
      "Rank\n",
      "Commodity\n",
      "Value (US$, 2016)\n",
      "Unit price(US$ / kilogram, 2009)\n",
      "Average yield(tonnes per hectare, 2017)\n",
      "Most productive country(tonnes per hectare, 2017)\n",
      "6\n"
     ]
    }
   ],
   "source": [
    "#Extract table headers\n",
    "headers = []\n",
    "for th in table.find_all('th'):\n",
    "    header_text = th.text.strip()\n",
    "    print(header_text)\n",
    "    headers.append(header_text)\n",
    "    \n",
    "    \n",
    "print(len(headers))"
   ]
  },
  {
   "cell_type": "code",
   "execution_count": 7,
   "id": "e86c6e01",
   "metadata": {},
   "outputs": [],
   "source": [
    "# Step 5: Extract table rows\n",
    "rows = []\n",
    "for tr in table.find_all('tr'):\n",
    "    # Get all cells (both header and data cells)\n",
    "    cells = tr.find_all(['td', 'th'])\n",
    "    row = [cell.get_text(strip=True) for cell in cells]\n",
    "    \n",
    "    # Only add rows that have at least one cell\n",
    "    if row:\n",
    "        rows.append(row)"
   ]
  },
  {
   "cell_type": "code",
   "execution_count": 8,
   "id": "5d207569",
   "metadata": {},
   "outputs": [],
   "source": [
    "# Step 6: Handle cases where rows have fewer or more columns than headers\n",
    "# Pad rows with missing values (None) or truncate them to match the number of headers\n",
    "cleaned_rows = []\n",
    "for row in rows:\n",
    "    if len(row) < len(headers):\n",
    "        # Pad the row if it's shorter than headers\n",
    "        row.extend([None] * (len(headers) - len(row)))\n",
    "    elif len(row) > len(headers):\n",
    "        # Truncate the row if it's longer than headers\n",
    "        row = row[:len(headers)]\n",
    "    cleaned_rows.append(row)"
   ]
  },
  {
   "cell_type": "code",
   "execution_count": 16,
   "id": "bd60a8ba",
   "metadata": {},
   "outputs": [
    {
     "name": "stdout",
     "output_type": "stream",
     "text": [
      "   Rank     Commodity  Value (US$, 2016)  Unit price(US$ / kilogram, 2009)  \\\n",
      "0  Rank     Commodity  Value (US$, 2016)  Unit price(US$ / kilogram, 2009)   \n",
      "1     1          Rice     $70.18 billion                              0.27   \n",
      "2     2  Buffalo milk     $43.09 billion                               0.4   \n",
      "3     3      Cow milk     $32.55 billion                              0.31   \n",
      "4     4         Wheat     $26.06 billion                              0.15   \n",
      "\n",
      "   Average yield(tonnes per hectare, 2017)  \\\n",
      "0  Average yield(tonnes per hectare, 2017)   \n",
      "1                                     3.85   \n",
      "2                                 2.00[78]   \n",
      "3                                  1.2[78]   \n",
      "4                                      2.8   \n",
      "\n",
      "   Most productive country(tonnes per hectare, 2017)  \n",
      "0  Most productive country(tonnes per hectare, 2017)  \n",
      "1                                               9.82  \n",
      "2                                           2.00[78]  \n",
      "3                                           10.3[78]  \n",
      "4                                                8.9  \n"
     ]
    }
   ],
   "source": [
    "\n",
    "# Step 7: Create a DataFrame from the cleaned rows\n",
    "df = pd.DataFrame(cleaned_rows, columns=headers)\n",
    "\n",
    "# Display the first few rows of the DataFrame\n",
    "print(df.head())\n"
   ]
  },
  {
   "cell_type": "code",
   "execution_count": 17,
   "id": "a6006d4a",
   "metadata": {},
   "outputs": [
    {
     "name": "stdout",
     "output_type": "stream",
     "text": [
      "   Rank                 Commodity Value (US$, 2016)  \\\n",
      "1     1                      Rice    $70.18 billion   \n",
      "2     2              Buffalo milk    $43.09 billion   \n",
      "3     3                  Cow milk    $32.55 billion   \n",
      "4     4                     Wheat    $26.06 billion   \n",
      "5     5      Cotton(Lint + Seeds)    $23.30 billion   \n",
      "6     6            Mangoes,guavas    $14.52 billion   \n",
      "7     7          Fresh Vegetables    $11.87 billion   \n",
      "8     8              Chicken meat     $9.32 billion   \n",
      "9     9                  Potatoes     $8.23 billion   \n",
      "10   10                    Banana     $8.13 billion   \n",
      "11   11                Sugar cane     $7.44 billion   \n",
      "12   12                     Maize     $5.81 billion   \n",
      "13   13                   Oranges     $5.62 billion   \n",
      "14   14                  Tomatoes     $5.50 billion   \n",
      "15   15                Chick peas     $5.40 billion   \n",
      "16   16                      Okra     $5.25 billion   \n",
      "17   17                  Soybeans     $5.13 billion   \n",
      "18   18                  Hen eggs     $4.64 billion   \n",
      "19   19  Cauliflower and Broccoli     $4.33 billion   \n",
      "20   20                    Onions     $4.05 billion   \n",
      "\n",
      "   Unit price(US$ / kilogram, 2009) Average yield(tonnes per hectare, 2017)  \\\n",
      "1                              0.27                                    3.85   \n",
      "2                               0.4                                2.00[78]   \n",
      "3                              0.31                                 1.2[78]   \n",
      "4                              0.15                                     2.8   \n",
      "5                              1.43                                     1.6   \n",
      "6                               0.6                                     6.3   \n",
      "7                              0.19                                    13.4   \n",
      "8                              0.64                                    10.6   \n",
      "9                              0.15                                    19.9   \n",
      "10                             0.28                                    37.8   \n",
      "11                             0.03                                      66   \n",
      "12                             0.42                                     1.1   \n",
      "13                                                                            \n",
      "14                             0.37                                    19.3   \n",
      "15                              0.4                                     0.9   \n",
      "16                             0.35                                     7.6   \n",
      "17                             0.26                                     1.1   \n",
      "18                              2.7                                 0.1[78]   \n",
      "19                             2.69                               0.138[78]   \n",
      "20                             0.21                                    16.6   \n",
      "\n",
      "   Most productive country(tonnes per hectare, 2017)  \n",
      "1                                               9.82  \n",
      "2                                           2.00[78]  \n",
      "3                                           10.3[78]  \n",
      "4                                                8.9  \n",
      "5                                                4.6  \n",
      "6                                               40.6  \n",
      "7                                               76.8  \n",
      "8                                               20.2  \n",
      "9                                               44.3  \n",
      "10                                              59.3  \n",
      "11                                               125  \n",
      "12                                               5.5  \n",
      "13                                                    \n",
      "14                                              55.9  \n",
      "15                                               2.8  \n",
      "16                                              23.9  \n",
      "17                                               3.7  \n",
      "18                                          0.42[78]  \n",
      "19                                         0.424[78]  \n",
      "20                                              67.3  \n"
     ]
    }
   ],
   "source": [
    "df = df[1:]\n",
    "print(df)"
   ]
  }
 ],
 "metadata": {
  "kernelspec": {
   "display_name": "Python 3 (ipykernel)",
   "language": "python",
   "name": "python3"
  },
  "language_info": {
   "codemirror_mode": {
    "name": "ipython",
    "version": 3
   },
   "file_extension": ".py",
   "mimetype": "text/x-python",
   "name": "python",
   "nbconvert_exporter": "python",
   "pygments_lexer": "ipython3",
   "version": "3.11.5"
  }
 },
 "nbformat": 4,
 "nbformat_minor": 5
}
